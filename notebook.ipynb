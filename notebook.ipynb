{
 "cells": [
  {
   "cell_type": "code",
   "execution_count": 2,
   "metadata": {},
   "outputs": [],
   "source": [
    ".L dewarp.cpp"
   ]
  },
  {
   "cell_type": "code",
   "execution_count": 3,
   "metadata": {},
   "outputs": [
    {
     "name": "stdout",
     "output_type": "stream",
     "text": [
      "matching  10 random scans\n",
      "actual pose: -0.130, -0.749, 0.4° -> matched pose: -0.128, -0.746, 0.3°\n",
      "actual pose: -0.325, 0.364, -0.7° -> matched pose: -0.322, 0.370, -0.8°\n",
      "actual pose: 0.758, 0.328, 0.5° -> matched pose: 0.759, 0.339, 0.5°\n",
      "actual pose: 0.633, 0.009, -1.6° -> matched pose: 0.635, 0.007, -1.7°\n",
      "actual pose: 0.001, 1.007, 2.3° -> matched pose: 0.000, 1.012, 2.3°\n",
      "actual pose: 0.785, -0.034, 0.2° -> matched pose: 0.786, -0.025, 0.2°\n",
      "actual pose: -0.663, -0.566, -5.2° -> matched pose: -0.666, -0.570, -5.3°\n",
      "actual pose: -0.450, -0.325, 2.1° -> matched pose: -0.449, -0.333, 2.0°\n",
      "actual pose: -0.159, -0.135, -1.4° -> matched pose: -0.156, -0.132, -1.3°\n",
      "actual pose: -0.214, -0.002, 2.1° -> matched pose: -0.215, -0.003, 2.1°\n",
      "done matching  10 random scans\n"
     ]
    }
   ],
   "source": [
    "test_match_n_scans<float>(10);"
   ]
  },
  {
   "cell_type": "code",
   "execution_count": 10,
   "metadata": {},
   "outputs": [
    {
     "name": "stdout",
     "output_type": "stream",
     "text": [
      "time untwisting: 0.566317\n"
     ]
    }
   ],
   "source": [
    "cout << \"time untwisting: \" << move_scan_timer.get_elapsed_seconds() << endl;"
   ]
  },
  {
   "cell_type": "code",
   "execution_count": 5,
   "metadata": {},
   "outputs": [
    {
     "data": {
      "text/plain": [
       "@0x7f3eb93e2038"
      ]
     },
     "execution_count": 5,
     "metadata": {},
     "output_type": "execute_result"
    }
   ],
   "source": [
    "untwist_timer"
   ]
  },
  {
   "cell_type": "code",
   "execution_count": 9,
   "metadata": {},
   "outputs": [
    {
     "data": {
      "text/plain": [
       "566317068"
      ]
     },
     "execution_count": 9,
     "metadata": {},
     "output_type": "execute_result"
    }
   ],
   "source": [
    "move_scan_timer.elapsed_time.count()"
   ]
  },
  {
   "cell_type": "code",
   "execution_count": null,
   "metadata": {},
   "outputs": [],
   "source": []
  }
 ],
 "metadata": {
  "kernelspec": {
   "display_name": "C++17",
   "language": "C++17",
   "name": "xeus-cling-cpp17"
  },
  "language_info": {
   "codemirror_mode": "text/x-c++src",
   "file_extension": ".cpp",
   "mimetype": "text/x-c++src",
   "name": "c++",
   "version": "17"
  }
 },
 "nbformat": 4,
 "nbformat_minor": 2
}
